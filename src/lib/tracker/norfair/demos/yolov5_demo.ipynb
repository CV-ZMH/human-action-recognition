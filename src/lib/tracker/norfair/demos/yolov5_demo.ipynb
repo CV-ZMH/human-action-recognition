{
 "cells": [
  {
   "cell_type": "markdown",
   "metadata": {
    "colab_type": "text",
    "id": "view-in-github"
   },
   "source": [
    "<a href=\"https://colab.research.google.com/github/tryolabs/norfair/blob/master/demos/yolov5/yolov5_demo.ipynb\" target=\"_parent\"><img src=\"https://colab.research.google.com/assets/colab-badge.svg\" alt=\"Open In Colab\"/></a>"
   ]
  },
  {
   "cell_type": "markdown",
   "metadata": {
    "id": "OMsRlH8QwFQd"
   },
   "source": [
    "# Simple object tracker\n",
    "\n",
    "Run a very simple car tracker on any Youtube video. This notebook is designed to run [norfair/yolov5demo.py](https://github.com/tryolabs/norfair/blob/master/demos/yolov5/yolov5demo.py) on Google Colabratory.\n",
    "\n",
    "The demo will use the following video by default, but you can change which video you use by changing the youtube link in [this cell](#Download-Video-and-Preprocessing). We trim the video to only a few seconds due to limitations with video playback in Google Colab, but you can play with these limitations and see what you get.\n",
    "\n",
    "[![](https://img.youtube.com/vi/aio9g9_xVio/0.jpg)](https://www.youtube.com/watch?v=aio9g9_xVio)\n",
    "\n",
    "**Note**\n",
    "- Set the hardware accelerator setting of Colaboratory to **GPU** and execute it.\n",
    "(Runtime -> Change Runtime Type -> GPU)\n"
   ]
  },
  {
   "cell_type": "markdown",
   "metadata": {
    "id": "b9vEmKjb2SnV"
   },
   "source": [
    "# Install the required libraries"
   ]
  },
  {
   "cell_type": "code",
   "execution_count": 1,
   "metadata": {
    "ExecuteTime": {
     "end_time": "2021-06-14T05:01:02.760247Z",
     "start_time": "2021-06-14T05:01:02.756126Z"
    },
    "id": "-TosvQp8qFcW"
   },
   "outputs": [],
   "source": [
    "# !pip install -q norfair youtube_dl"
   ]
  },
  {
   "cell_type": "markdown",
   "metadata": {},
   "source": [
    "# Download [Video](https://www.youtube.com/watch?v=aio9g9_xVio) and Preprocessing\n",
    "We cut the video short because it's too long to play in Google Colabratory."
   ]
  },
  {
   "cell_type": "code",
   "execution_count": 2,
   "metadata": {
    "ExecuteTime": {
     "end_time": "2021-06-14T05:01:02.770947Z",
     "start_time": "2021-06-14T05:01:02.767192Z"
    }
   },
   "outputs": [],
   "source": [
    "# !youtube-dl https://www.youtube.com/watch?v=aio9g9_xVio -f mp4 --output sample.mp4\n",
    "# !ffmpeg -i sample.mp4 -ss 7 -t 10 sample_10s.mp4"
   ]
  },
  {
   "cell_type": "markdown",
   "metadata": {
    "id": "-jZnwvD92hCA"
   },
   "source": [
    "# [YOLOv5](https://github.com/fcakyon/yolov5-pip) Installation"
   ]
  },
  {
   "cell_type": "code",
   "execution_count": 3,
   "metadata": {
    "ExecuteTime": {
     "end_time": "2021-06-14T05:01:02.777571Z",
     "start_time": "2021-06-14T05:01:02.774450Z"
    },
    "id": "_pVfjd672Q5o"
   },
   "outputs": [],
   "source": [
    "# !pip install yolov5"
   ]
  },
  {
   "cell_type": "markdown",
   "metadata": {
    "id": "yyRxBpno3Tf4"
   },
   "source": [
    "# Download [Github - norfair/yolov5demo.py](https://github.com/tryolabs/norfair/blob/master/demos/yolov5/yolov5demo.py) and Run yolov5demo.py"
   ]
  },
  {
   "cell_type": "code",
   "execution_count": 4,
   "metadata": {
    "ExecuteTime": {
     "end_time": "2021-06-14T05:01:50.886007Z",
     "start_time": "2021-06-14T05:01:02.780755Z"
    },
    "id": "Os2xvnOI3S_R"
   },
   "outputs": [
    {
     "name": "stdout",
     "output_type": "stream",
     "text": [
      "--2021-06-14 11:31:02--  https://raw.githubusercontent.com/tryolabs/norfair/master/demos/yolov5/yolov5demo.py\n",
      "Resolving raw.githubusercontent.com (raw.githubusercontent.com)... 185.199.111.133, 185.199.110.133, 185.199.109.133, ...\n",
      "Connecting to raw.githubusercontent.com (raw.githubusercontent.com)|185.199.111.133|:443... connected.\n",
      "HTTP request sent, awaiting response... 200 OK\n",
      "Length: 4548 (4.4K) [text/plain]\n",
      "Saving to: ‘yolov5demo.py’\n",
      "\n",
      "yolov5demo.py       100%[===================>]   4.44K  --.-KB/s    in 0s      \n",
      "\n",
      "2021-06-14 11:31:03 (26.6 MB/s) - ‘yolov5demo.py’ saved [4548/4548]\n",
      "\n",
      "\u001b[2Kaung_la_fight_cut_1.mp4 \u001b[38;2;114;156;31m━━━━━━━━━━━━━━━━━━━━━━━━━━━━━━━━━━\u001b[0m \u001b[35m100%\u001b[0m \u001b[36m0:00:00\u001b[0m \u001b[33m26.23fps\u001b[0m\u001b[0m \u001b[33m26.23fps\u001b[0m33m26.20fps\u001b[0m\n",
      "\u001b[?25h\u001b[37mOutput video file saved to: .\u001b[0m\u001b[37m/\u001b[0m\u001b[37maung_la_fight_cut_1_out.mp4\u001b[0m\n"
     ]
    }
   ],
   "source": [
    "!wget \"https://raw.githubusercontent.com/tryolabs/norfair/master/demos/yolov5/yolov5demo.py\" -O yolov5demo.py\n",
    "!python yolov5demo.py /home/zmh/hdd/Test_Videos/Tracking/aung_la_fight_cut_1.mp4 --track_points bbox --img_size 1280 --classes 0 --detector_path /home/zmh/hdd/Custom_Projects/object_tracking/MOT/Yolov5_DeepSort_Pytorch/yolov5/weights/yolov5m.pt"
   ]
  },
  {
   "cell_type": "markdown",
   "metadata": {
    "id": "gkQIIlYN4Mha"
   },
   "source": [
    "# Convert mp4 to webm\n",
    "Reference: [StackOverflow - python-opencv-video-format-play-in-browser](https://stackoverflow.com/questions/49530857/python-opencv-video-format-play-in-browser)"
   ]
  },
  {
   "cell_type": "code",
   "execution_count": 5,
   "metadata": {
    "ExecuteTime": {
     "end_time": "2021-06-14T05:01:50.897325Z",
     "start_time": "2021-06-14T05:01:50.892622Z"
    },
    "id": "wsJUOKOD7mT7"
   },
   "outputs": [],
   "source": [
    "# !ffmpeg -i ./aung_la_fight_cut_1_out.mp4 -vcodec vp9 "
   ]
  },
  {
   "cell_type": "code",
   "execution_count": 6,
   "metadata": {
    "ExecuteTime": {
     "end_time": "2021-06-14T05:01:50.901919Z",
     "start_time": "2021-06-14T05:01:50.898941Z"
    },
    "id": "tJHAEirK4LtQ"
   },
   "outputs": [],
   "source": [
    "# Displaying the Drawing Result"
   ]
  },
  {
   "cell_type": "code",
   "execution_count": 7,
   "metadata": {
    "ExecuteTime": {
     "end_time": "2021-06-14T05:01:50.906757Z",
     "start_time": "2021-06-14T05:01:50.904177Z"
    },
    "id": "zKN1li519ns4"
   },
   "outputs": [],
   "source": [
    "# import io\n",
    "# from base64 import b64encode\n",
    "# from IPython.display import HTML\n",
    "\n",
    "# with  io.open('sample_10s.webm','r+b') as f:\n",
    "#     mp4 = f.read()\n",
    "# data_url = \"data:video/webm;base64,\" + b64encode(mp4).decode()\n",
    "# HTML(\"\"\"\n",
    "# <video width=800 controls>\n",
    "#       <source src=\"%s\" type=\"video/webm\">\n",
    "# </video>\n",
    "# \"\"\" % data_url)"
   ]
  },
  {
   "cell_type": "markdown",
   "metadata": {},
   "source": [
    "# Convert mp4 to gif"
   ]
  },
  {
   "cell_type": "code",
   "execution_count": 8,
   "metadata": {
    "ExecuteTime": {
     "end_time": "2021-06-14T05:01:51.360814Z",
     "start_time": "2021-06-14T05:01:50.909808Z"
    }
   },
   "outputs": [
    {
     "name": "stdout",
     "output_type": "stream",
     "text": [
      "ffmpeg version 3.4.8-0ubuntu0.2 Copyright (c) 2000-2020 the FFmpeg developers\r\n",
      "  built with gcc 7 (Ubuntu 7.5.0-3ubuntu1~18.04)\r\n",
      "  configuration: --prefix=/usr --extra-version=0ubuntu0.2 --toolchain=hardened --libdir=/usr/lib/x86_64-linux-gnu --incdir=/usr/include/x86_64-linux-gnu --enable-gpl --disable-stripping --enable-avresample --enable-avisynth --enable-gnutls --enable-ladspa --enable-libass --enable-libbluray --enable-libbs2b --enable-libcaca --enable-libcdio --enable-libflite --enable-libfontconfig --enable-libfreetype --enable-libfribidi --enable-libgme --enable-libgsm --enable-libmp3lame --enable-libmysofa --enable-libopenjpeg --enable-libopenmpt --enable-libopus --enable-libpulse --enable-librubberband --enable-librsvg --enable-libshine --enable-libsnappy --enable-libsoxr --enable-libspeex --enable-libssh --enable-libtheora --enable-libtwolame --enable-libvorbis --enable-libvpx --enable-libwavpack --enable-libwebp --enable-libx265 --enable-libxml2 --enable-libxvid --enable-libzmq --enable-libzvbi --enable-omx --enable-openal --enable-opengl --enable-sdl2 --enable-libdc1394 --enable-libdrm --enable-libiec61883 --enable-chromaprint --enable-frei0r --enable-libopencv --enable-libx264 --enable-shared\r\n",
      "  WARNING: library configuration mismatch\r\n",
      "  avcodec     configuration: --prefix=/usr --extra-version=0ubuntu0.2 --toolchain=hardened --libdir=/usr/lib/x86_64-linux-gnu --incdir=/usr/include/x86_64-linux-gnu --enable-gpl --disable-stripping --enable-avresample --enable-avisynth --enable-gnutls --enable-ladspa --enable-libass --enable-libbluray --enable-libbs2b --enable-libcaca --enable-libcdio --enable-libflite --enable-libfontconfig --enable-libfreetype --enable-libfribidi --enable-libgme --enable-libgsm --enable-libmp3lame --enable-libmysofa --enable-libopenjpeg --enable-libopenmpt --enable-libopus --enable-libpulse --enable-librubberband --enable-librsvg --enable-libshine --enable-libsnappy --enable-libsoxr --enable-libspeex --enable-libssh --enable-libtheora --enable-libtwolame --enable-libvorbis --enable-libvpx --enable-libwavpack --enable-libwebp --enable-libx265 --enable-libxml2 --enable-libxvid --enable-libzmq --enable-libzvbi --enable-omx --enable-openal --enable-opengl --enable-sdl2 --enable-libdc1394 --enable-libdrm --enable-libiec61883 --enable-chromaprint --enable-frei0r --enable-libopencv --enable-libx264 --enable-shared --enable-version3 --disable-doc --disable-programs --enable-libopencore_amrnb --enable-libopencore_amrwb --enable-libtesseract --enable-libvo_amrwbenc\r\n",
      "  libavutil      55. 78.100 / 55. 78.100\r\n",
      "  libavcodec     57.107.100 / 57.107.100\r\n",
      "  libavformat    57. 83.100 / 57. 83.100\r\n",
      "  libavdevice    57. 10.100 / 57. 10.100\r\n",
      "  libavfilter     6.107.100 /  6.107.100\r\n",
      "  libavresample   3.  7.  0 /  3.  7.  0\r\n",
      "  libswscale      4.  8.100 /  4.  8.100\r\n",
      "  libswresample   2.  9.100 /  2.  9.100\r\n",
      "  libpostproc    54.  7.100 / 54.  7.100\r\n",
      "\u001b[1;31m./sample_10s_out.mp4: No such file or directory\r\n",
      "\u001b[0m"
     ]
    }
   ],
   "source": [
    "!ffmpeg -ss 5 -i ./sample_10s_out.mp4 -filter_complex \"[0:v] fps=10,scale=1280:-1,split [a][b];[a] palettegen [p];[b][p] paletteuse\" output.gif -y"
   ]
  },
  {
   "cell_type": "code",
   "execution_count": null,
   "metadata": {},
   "outputs": [],
   "source": []
  }
 ],
 "metadata": {
  "accelerator": "GPU",
  "colab": {
   "authorship_tag": "ABX9TyO4qLzod40698nm7MS6o+W8",
   "include_colab_link": true,
   "name": "yolov4_demo.ipynb",
   "provenance": []
  },
  "kernelspec": {
   "display_name": "Python 3",
   "language": "python",
   "name": "python3"
  },
  "language_info": {
   "codemirror_mode": {
    "name": "ipython",
    "version": 3
   },
   "file_extension": ".py",
   "mimetype": "text/x-python",
   "name": "python",
   "nbconvert_exporter": "python",
   "pygments_lexer": "ipython3",
   "version": "3.6.13"
  },
  "toc": {
   "base_numbering": 1,
   "nav_menu": {},
   "number_sections": true,
   "sideBar": true,
   "skip_h1_title": false,
   "title_cell": "Table of Contents",
   "title_sidebar": "Contents",
   "toc_cell": false,
   "toc_position": {},
   "toc_section_display": true,
   "toc_window_display": false
  },
  "varInspector": {
   "cols": {
    "lenName": 16,
    "lenType": 16,
    "lenVar": 40
   },
   "kernels_config": {
    "python": {
     "delete_cmd_postfix": "",
     "delete_cmd_prefix": "del ",
     "library": "var_list.py",
     "varRefreshCmd": "print(var_dic_list())"
    },
    "r": {
     "delete_cmd_postfix": ") ",
     "delete_cmd_prefix": "rm(",
     "library": "var_list.r",
     "varRefreshCmd": "cat(var_dic_list()) "
    }
   },
   "types_to_exclude": [
    "module",
    "function",
    "builtin_function_or_method",
    "instance",
    "_Feature"
   ],
   "window_display": false
  }
 },
 "nbformat": 4,
 "nbformat_minor": 4
}
